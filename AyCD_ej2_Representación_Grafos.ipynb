{
  "nbformat": 4,
  "nbformat_minor": 0,
  "metadata": {
    "colab": {
      "name": "AyCD_ej2_Representación_Grafos.ipynb",
      "provenance": [],
      "authorship_tag": "ABX9TyOE3EtLaphD1H9rfBHrNJ8a",
      "include_colab_link": true
    },
    "kernelspec": {
      "name": "python3",
      "display_name": "Python 3"
    }
  },
  "cells": [
    {
      "cell_type": "markdown",
      "metadata": {
        "id": "view-in-github",
        "colab_type": "text"
      },
      "source": [
        "<a href=\"https://colab.research.google.com/github/agusrdlv/diplodatos-G6/blob/master/AyCD_ej2_Representaci%C3%B3n_Grafos.ipynb\" target=\"_parent\"><img src=\"https://colab.research.google.com/assets/colab-badge.svg\" alt=\"Open In Colab\"/></a>"
      ]
    },
    {
      "cell_type": "code",
      "metadata": {
        "id": "I_ognr_Hi_ZI",
        "colab_type": "code",
        "colab": {}
      },
      "source": [
        "edgeList = [[0,2],[1,3],[2,3],[2,4],[3,5],[4,5]]"
      ],
      "execution_count": null,
      "outputs": []
    },
    {
      "cell_type": "code",
      "metadata": {
        "id": "p4sS3ToQjUR5",
        "colab_type": "code",
        "colab": {}
      },
      "source": [
        "'''\n",
        "adjList = {\n",
        "    0:[2],\n",
        "    1:[3],\n",
        "    2:[3, 4],\n",
        "    3:[5],\n",
        "    4:[5],\n",
        "    5:[]\n",
        "}\n",
        "'''\n",
        "adjlist = [\n",
        "    [2],\n",
        "    [3],\n",
        "    [3, 4],\n",
        "    [5],\n",
        "    [5],\n",
        "    [],\n",
        "]"
      ],
      "execution_count": null,
      "outputs": []
    },
    {
      "cell_type": "code",
      "metadata": {
        "id": "Rn1sSvvijZFf",
        "colab_type": "code",
        "colab": {}
      },
      "source": [
        "adjMatrix = (\n",
        "    [0, 0, 1, 0, 0, 0,],\n",
        "    [0, 0, 0, 1, 0, 0,],\n",
        "    [0, 0, 0, 1, 1, 0,],\n",
        "    [0, 0, 0, 0, 0, 1,],\n",
        "    [0, 0, 0, 0, 0, 1,],\n",
        "    [0, 0, 0, 0, 0, 0,],\n",
        ")\n",
        "    \n"
      ],
      "execution_count": null,
      "outputs": []
    }
  ]
}