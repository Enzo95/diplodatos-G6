{
 "cells": [
  {
   "cell_type": "code",
   "execution_count": 42,
   "metadata": {},
   "outputs": [],
   "source": [
    "import pandas as pd\n",
    "import matplotlib.pyplot as plt\n",
    "import numpy as np\n",
    "import seaborn as sns"
   ]
  },
  {
   "cell_type": "markdown",
   "metadata": {},
   "source": [
    "Ejercicio 1"
   ]
  },
  {
   "cell_type": "code",
   "execution_count": null,
   "metadata": {},
   "outputs": [],
   "source": [
    "df = pd.read_csv('wtageinf.csv')"
   ]
  },
  {
   "cell_type": "code",
   "execution_count": null,
   "metadata": {},
   "outputs": [],
   "source": [
    "df"
   ]
  },
  {
   "cell_type": "code",
   "execution_count": null,
   "metadata": {},
   "outputs": [],
   "source": [
    "columns= ['P3','P5','P10','P25','P50','P75','P90','P95','P97']\n",
    "df[df.Sex == 1][columns].plot()"
   ]
  },
  {
   "cell_type": "code",
   "execution_count": null,
   "metadata": {},
   "outputs": [],
   "source": [
    "df[df.Sex == 2][columns].plot()"
   ]
  },
  {
   "cell_type": "markdown",
   "metadata": {},
   "source": [
    "Ejercicio 2"
   ]
  },
  {
   "cell_type": "code",
   "execution_count": 21,
   "metadata": {},
   "outputs": [],
   "source": [
    "df2 = pd.io.json.read_json('pasos.json')"
   ]
  },
  {
   "cell_type": "code",
   "execution_count": 22,
   "metadata": {},
   "outputs": [
    {
     "data": {
      "text/html": [
       "<div>\n",
       "<style scoped>\n",
       "    .dataframe tbody tr th:only-of-type {\n",
       "        vertical-align: middle;\n",
       "    }\n",
       "\n",
       "    .dataframe tbody tr th {\n",
       "        vertical-align: top;\n",
       "    }\n",
       "\n",
       "    .dataframe thead th {\n",
       "        text-align: right;\n",
       "    }\n",
       "</style>\n",
       "<table border=\"1\" class=\"dataframe\">\n",
       "  <thead>\n",
       "    <tr style=\"text-align: right;\">\n",
       "      <th></th>\n",
       "      <th>province</th>\n",
       "      <th>location</th>\n",
       "      <th>name</th>\n",
       "    </tr>\n",
       "  </thead>\n",
       "  <tbody>\n",
       "    <tr>\n",
       "      <th>0</th>\n",
       "      <td>Tierra del Fuego</td>\n",
       "      <td>[-54.832543, -68.3712885]</td>\n",
       "      <td>SAN SEBASTIAN  ( USHUAIA )</td>\n",
       "    </tr>\n",
       "    <tr>\n",
       "      <th>1</th>\n",
       "      <td>Tierra del Fuego</td>\n",
       "      <td>[-54.8249379, -68.3258626]</td>\n",
       "      <td>AERO PUBLICO DE USHUAIA</td>\n",
       "    </tr>\n",
       "    <tr>\n",
       "      <th>2</th>\n",
       "      <td>Tierra del Fuego</td>\n",
       "      <td>[-54.8096728, -68.3114748]</td>\n",
       "      <td>PUERTO USHUAIA (PREFECTURA)</td>\n",
       "    </tr>\n",
       "    <tr>\n",
       "      <th>3</th>\n",
       "      <td>Tierra del Fuego</td>\n",
       "      <td>[-54.8019121, -68.3029511]</td>\n",
       "      <td>PUERTO USHUAIA</td>\n",
       "    </tr>\n",
       "    <tr>\n",
       "      <th>4</th>\n",
       "      <td>Santa Cruz</td>\n",
       "      <td>[-51.6896359, -72.2993574]</td>\n",
       "      <td>PASO LAURITA CASAS VIEJAS</td>\n",
       "    </tr>\n",
       "    <tr>\n",
       "      <th>...</th>\n",
       "      <td>...</td>\n",
       "      <td>...</td>\n",
       "      <td>...</td>\n",
       "    </tr>\n",
       "    <tr>\n",
       "      <th>247</th>\n",
       "      <td>Chubut</td>\n",
       "      <td>[-45.2213569, -71.3610803]</td>\n",
       "      <td>PASO PAMPA ALTA</td>\n",
       "    </tr>\n",
       "    <tr>\n",
       "      <th>248</th>\n",
       "      <td>Santa Cruz</td>\n",
       "      <td>[-48.8772007, -72.7288579]</td>\n",
       "      <td>PASO PORTEZUELO DE LA DIVISORIA</td>\n",
       "    </tr>\n",
       "    <tr>\n",
       "      <th>249</th>\n",
       "      <td>Buenos Aires</td>\n",
       "      <td>[-34.1176359, -57.9897668]</td>\n",
       "      <td>ROU COLONIA</td>\n",
       "    </tr>\n",
       "    <tr>\n",
       "      <th>250</th>\n",
       "      <td>Buenos Aires</td>\n",
       "      <td>[-34.1176359, -57.9897668]</td>\n",
       "      <td>ROU COLONIA</td>\n",
       "    </tr>\n",
       "    <tr>\n",
       "      <th>251</th>\n",
       "      <td>Misiones</td>\n",
       "      <td>[-25.6221088, -54.6080637]</td>\n",
       "      <td>ZONA FRANCA IGUAZU (TRANSITO)</td>\n",
       "    </tr>\n",
       "  </tbody>\n",
       "</table>\n",
       "<p>252 rows × 3 columns</p>\n",
       "</div>"
      ],
      "text/plain": [
       "             province                    location  \\\n",
       "0    Tierra del Fuego   [-54.832543, -68.3712885]   \n",
       "1    Tierra del Fuego  [-54.8249379, -68.3258626]   \n",
       "2    Tierra del Fuego  [-54.8096728, -68.3114748]   \n",
       "3    Tierra del Fuego  [-54.8019121, -68.3029511]   \n",
       "4          Santa Cruz  [-51.6896359, -72.2993574]   \n",
       "..                ...                         ...   \n",
       "247            Chubut  [-45.2213569, -71.3610803]   \n",
       "248        Santa Cruz  [-48.8772007, -72.7288579]   \n",
       "249      Buenos Aires  [-34.1176359, -57.9897668]   \n",
       "250      Buenos Aires  [-34.1176359, -57.9897668]   \n",
       "251          Misiones  [-25.6221088, -54.6080637]   \n",
       "\n",
       "                                name  \n",
       "0         SAN SEBASTIAN  ( USHUAIA )  \n",
       "1            AERO PUBLICO DE USHUAIA  \n",
       "2        PUERTO USHUAIA (PREFECTURA)  \n",
       "3                     PUERTO USHUAIA  \n",
       "4          PASO LAURITA CASAS VIEJAS  \n",
       "..                               ...  \n",
       "247                  PASO PAMPA ALTA  \n",
       "248  PASO PORTEZUELO DE LA DIVISORIA  \n",
       "249                      ROU COLONIA  \n",
       "250                      ROU COLONIA  \n",
       "251    ZONA FRANCA IGUAZU (TRANSITO)  \n",
       "\n",
       "[252 rows x 3 columns]"
      ]
     },
     "execution_count": 22,
     "metadata": {},
     "output_type": "execute_result"
    }
   ],
   "source": [
    "df2"
   ]
  },
  {
   "cell_type": "code",
   "execution_count": 23,
   "metadata": {},
   "outputs": [
    {
     "data": {
      "text/plain": [
       "array(['Tierra del Fuego', 'Santa Cruz',\n",
       "       'AEROPUERTO INTERNACIONAL PILOTO CIVIL NORBERTO FERNANDEZ',\n",
       "       'Chubut', 'Rio Negro', 'Neuquen', 'NEUQUEN', 'Buenos Aires',\n",
       "       'Mendoza', 'San Luis', 'San Juan', 'Santa Fe', 'Córdoba',\n",
       "       'Cordoba', 'Entre Rios', 'La Rioja', 'Corrientes', 'Catamarca',\n",
       "       'Santiago del Estero', 'Tucuman', 'Chaco', 'Misiones', 'Formosa',\n",
       "       'Salta', 'Jujuy'], dtype=object)"
      ]
     },
     "execution_count": 23,
     "metadata": {},
     "output_type": "execute_result"
    }
   ],
   "source": [
    "df2.province.unique()"
   ]
  },
  {
   "cell_type": "code",
   "execution_count": 24,
   "metadata": {},
   "outputs": [
    {
     "data": {
      "text/html": [
       "<div>\n",
       "<style scoped>\n",
       "    .dataframe tbody tr th:only-of-type {\n",
       "        vertical-align: middle;\n",
       "    }\n",
       "\n",
       "    .dataframe tbody tr th {\n",
       "        vertical-align: top;\n",
       "    }\n",
       "\n",
       "    .dataframe thead th {\n",
       "        text-align: right;\n",
       "    }\n",
       "</style>\n",
       "<table border=\"1\" class=\"dataframe\">\n",
       "  <thead>\n",
       "    <tr style=\"text-align: right;\">\n",
       "      <th></th>\n",
       "      <th>location</th>\n",
       "      <th>name</th>\n",
       "    </tr>\n",
       "    <tr>\n",
       "      <th>province</th>\n",
       "      <th></th>\n",
       "      <th></th>\n",
       "    </tr>\n",
       "  </thead>\n",
       "  <tbody>\n",
       "    <tr>\n",
       "      <th>AEROPUERTO INTERNACIONAL PILOTO CIVIL NORBERTO FERNANDEZ</th>\n",
       "      <td>1</td>\n",
       "      <td>1</td>\n",
       "    </tr>\n",
       "    <tr>\n",
       "      <th>Buenos Aires</th>\n",
       "      <td>48</td>\n",
       "      <td>48</td>\n",
       "    </tr>\n",
       "    <tr>\n",
       "      <th>Catamarca</th>\n",
       "      <td>3</td>\n",
       "      <td>3</td>\n",
       "    </tr>\n",
       "    <tr>\n",
       "      <th>Chaco</th>\n",
       "      <td>3</td>\n",
       "      <td>3</td>\n",
       "    </tr>\n",
       "    <tr>\n",
       "      <th>Chubut</th>\n",
       "      <td>15</td>\n",
       "      <td>15</td>\n",
       "    </tr>\n",
       "    <tr>\n",
       "      <th>Cordoba</th>\n",
       "      <td>3</td>\n",
       "      <td>3</td>\n",
       "    </tr>\n",
       "    <tr>\n",
       "      <th>Corrientes</th>\n",
       "      <td>15</td>\n",
       "      <td>15</td>\n",
       "    </tr>\n",
       "    <tr>\n",
       "      <th>Córdoba</th>\n",
       "      <td>1</td>\n",
       "      <td>1</td>\n",
       "    </tr>\n",
       "    <tr>\n",
       "      <th>Entre Rios</th>\n",
       "      <td>13</td>\n",
       "      <td>13</td>\n",
       "    </tr>\n",
       "    <tr>\n",
       "      <th>Formosa</th>\n",
       "      <td>11</td>\n",
       "      <td>11</td>\n",
       "    </tr>\n",
       "    <tr>\n",
       "      <th>Jujuy</th>\n",
       "      <td>8</td>\n",
       "      <td>8</td>\n",
       "    </tr>\n",
       "    <tr>\n",
       "      <th>La Rioja</th>\n",
       "      <td>3</td>\n",
       "      <td>3</td>\n",
       "    </tr>\n",
       "    <tr>\n",
       "      <th>Mendoza</th>\n",
       "      <td>14</td>\n",
       "      <td>14</td>\n",
       "    </tr>\n",
       "    <tr>\n",
       "      <th>Misiones</th>\n",
       "      <td>38</td>\n",
       "      <td>38</td>\n",
       "    </tr>\n",
       "    <tr>\n",
       "      <th>NEUQUEN</th>\n",
       "      <td>1</td>\n",
       "      <td>1</td>\n",
       "    </tr>\n",
       "    <tr>\n",
       "      <th>Neuquen</th>\n",
       "      <td>10</td>\n",
       "      <td>10</td>\n",
       "    </tr>\n",
       "    <tr>\n",
       "      <th>Rio Negro</th>\n",
       "      <td>8</td>\n",
       "      <td>8</td>\n",
       "    </tr>\n",
       "    <tr>\n",
       "      <th>Salta</th>\n",
       "      <td>4</td>\n",
       "      <td>4</td>\n",
       "    </tr>\n",
       "    <tr>\n",
       "      <th>San Juan</th>\n",
       "      <td>5</td>\n",
       "      <td>5</td>\n",
       "    </tr>\n",
       "    <tr>\n",
       "      <th>San Luis</th>\n",
       "      <td>2</td>\n",
       "      <td>2</td>\n",
       "    </tr>\n",
       "    <tr>\n",
       "      <th>Santa Cruz</th>\n",
       "      <td>20</td>\n",
       "      <td>20</td>\n",
       "    </tr>\n",
       "    <tr>\n",
       "      <th>Santa Fe</th>\n",
       "      <td>11</td>\n",
       "      <td>11</td>\n",
       "    </tr>\n",
       "    <tr>\n",
       "      <th>Santiago del Estero</th>\n",
       "      <td>4</td>\n",
       "      <td>4</td>\n",
       "    </tr>\n",
       "    <tr>\n",
       "      <th>Tierra del Fuego</th>\n",
       "      <td>9</td>\n",
       "      <td>9</td>\n",
       "    </tr>\n",
       "    <tr>\n",
       "      <th>Tucuman</th>\n",
       "      <td>2</td>\n",
       "      <td>2</td>\n",
       "    </tr>\n",
       "  </tbody>\n",
       "</table>\n",
       "</div>"
      ],
      "text/plain": [
       "                                                    location  name\n",
       "province                                                          \n",
       "AEROPUERTO INTERNACIONAL PILOTO CIVIL NORBERTO ...         1     1\n",
       "Buenos Aires                                              48    48\n",
       "Catamarca                                                  3     3\n",
       "Chaco                                                      3     3\n",
       "Chubut                                                    15    15\n",
       "Cordoba                                                    3     3\n",
       "Corrientes                                                15    15\n",
       "Córdoba                                                    1     1\n",
       "Entre Rios                                                13    13\n",
       "Formosa                                                   11    11\n",
       "Jujuy                                                      8     8\n",
       "La Rioja                                                   3     3\n",
       "Mendoza                                                   14    14\n",
       "Misiones                                                  38    38\n",
       "NEUQUEN                                                    1     1\n",
       "Neuquen                                                   10    10\n",
       "Rio Negro                                                  8     8\n",
       "Salta                                                      4     4\n",
       "San Juan                                                   5     5\n",
       "San Luis                                                   2     2\n",
       "Santa Cruz                                                20    20\n",
       "Santa Fe                                                  11    11\n",
       "Santiago del Estero                                        4     4\n",
       "Tierra del Fuego                                           9     9\n",
       "Tucuman                                                    2     2"
      ]
     },
     "execution_count": 24,
     "metadata": {},
     "output_type": "execute_result"
    }
   ],
   "source": [
    "df2 = df.groupby('province').count()\n",
    "df2"
   ]
  },
  {
   "cell_type": "code",
   "execution_count": 34,
   "metadata": {},
   "outputs": [
    {
     "data": {
      "image/png": "[encoded data removed]",
      "text/plain": [
       "<Figure size 1008x576 with 1 Axes>"
      ]
     },
     "metadata": {
      "needs_background": "light"
     },
     "output_type": "display_data"
    }
   ],
   "source": [
    "plt.figure(figsize=(14,8))\n",
    "plt.bar(df2.index, df2.location)\n",
    "plt.xticks(\n",
    "    rotation=90, \n",
    "    horizontalalignment='right',\n",
    "    fontweight='light',\n",
    "    fontsize='medium'  \n",
    ")\n",
    "plt.show()"
   ]
  },
  {
   "cell_type": "markdown",
   "metadata": {},
   "source": [
    "Ejercicio 3"
   ]
  },
  {
   "cell_type": "code",
   "execution_count": 37,
   "metadata": {},
   "outputs": [],
   "source": [
    "edgeList = [[0,2],[1,3],[2,3],[2,4],[3,5],[4,5]]"
   ]
  },
  {
   "cell_type": "code",
   "execution_count": 41,
   "metadata": {},
   "outputs": [],
   "source": [
    "'''\n",
    "adjList = {\n",
    "    0:[2],\n",
    "    1:[3],\n",
    "    2:[3, 4],\n",
    "    3:[5],\n",
    "    4:[5],\n",
    "    5:[]\n",
    "}\n",
    "'''\n",
    "adjlist = [\n",
    "    [2],\n",
    "    [3],\n",
    "    [3, 4],\n",
    "    [5],\n",
    "    [5],\n",
    "    [],\n",
    "]"
   ]
  },
  {
   "cell_type": "code",
   "execution_count": null,
   "metadata": {},
   "outputs": [],
   "source": [
    "adjMatrix = (\n",
    "    [0, 0, 1, 0, 0, 0,],\n",
    "    [0, 0, 0, 1, 0, 0,],\n",
    "    [0, 0, 0, 1, 1, 0,],\n",
    "    [0, 0, 0, 0, 0, 1,],\n",
    "    [0, 0, 0, 0, 0, 1,],\n",
    "    [0, 0, 0, 0, 0, 0,],\n",
    ")\n",
    "    \n"
   ]
  }
 ],
 "metadata": {
  "kernelspec": {
   "display_name": "Python 3",
   "language": "python",
   "name": "python3"
  },
  "language_info": {
   "codemirror_mode": {
    "name": "ipython",
    "version": 3
   },
   "file_extension": ".py",
   "mimetype": "text/x-python",
   "name": "python",
   "nbconvert_exporter": "python",
   "pygments_lexer": "ipython3",
   "version": "3.6.10"
  }
 },
 "nbformat": 4,
 "nbformat_minor": 4
}
