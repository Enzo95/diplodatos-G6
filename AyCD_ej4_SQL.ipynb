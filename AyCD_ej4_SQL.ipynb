{
  "nbformat": 4,
  "nbformat_minor": 0,
  "metadata": {
    "colab": {
      "name": "02.AyC-ConsumoDatosSQLite.ipynb",
      "provenance": [],
      "collapsed_sections": [],
      "include_colab_link": true
    },
    "kernelspec": {
      "name": "python3",
      "display_name": "Python 3"
    }
  },
  "cells": [
    {
      "cell_type": "markdown",
      "metadata": {
        "id": "view-in-github",
        "colab_type": "text"
      },
      "source": [
        "<a href=\"https://colab.research.google.com/github/agusrdlv/diplodatos-G6/blob/master/AyCD_ej4_SQL.ipynb\" target=\"_parent\"><img src=\"https://colab.research.google.com/assets/colab-badge.svg\" alt=\"Open In Colab\"/></a>"
      ]
    },
    {
      "cell_type": "code",
      "metadata": {
        "id": "ZT3RDDE1uTjQ",
        "colab_type": "code",
        "colab": {
          "base_uri": "https://localhost:8080/",
          "height": 528
        },
        "outputId": "b3e97319-e5a3-4523-d87d-4e438258a660"
      },
      "source": [
        "from google.colab import drive\n",
        "drive.mount('/content/drive')"
      ],
      "execution_count": 1,
      "outputs": [
        {
          "output_type": "error",
          "ename": "KeyboardInterrupt",
          "evalue": "ignored",
          "traceback": [
            "\u001b[0;31m---------------------------------------------------------------------------\u001b[0m",
            "\u001b[0;31mKeyboardInterrupt\u001b[0m                         Traceback (most recent call last)",
            "\u001b[0;32m/usr/local/lib/python3.6/dist-packages/ipykernel/kernelbase.py\u001b[0m in \u001b[0;36m_input_request\u001b[0;34m(self, prompt, ident, parent, password)\u001b[0m\n\u001b[1;32m    728\u001b[0m             \u001b[0;32mtry\u001b[0m\u001b[0;34m:\u001b[0m\u001b[0;34m\u001b[0m\u001b[0;34m\u001b[0m\u001b[0m\n\u001b[0;32m--> 729\u001b[0;31m                 \u001b[0mident\u001b[0m\u001b[0;34m,\u001b[0m \u001b[0mreply\u001b[0m \u001b[0;34m=\u001b[0m \u001b[0mself\u001b[0m\u001b[0;34m.\u001b[0m\u001b[0msession\u001b[0m\u001b[0;34m.\u001b[0m\u001b[0mrecv\u001b[0m\u001b[0;34m(\u001b[0m\u001b[0mself\u001b[0m\u001b[0;34m.\u001b[0m\u001b[0mstdin_socket\u001b[0m\u001b[0;34m,\u001b[0m \u001b[0;36m0\u001b[0m\u001b[0;34m)\u001b[0m\u001b[0;34m\u001b[0m\u001b[0;34m\u001b[0m\u001b[0m\n\u001b[0m\u001b[1;32m    730\u001b[0m             \u001b[0;32mexcept\u001b[0m \u001b[0mException\u001b[0m\u001b[0;34m:\u001b[0m\u001b[0;34m\u001b[0m\u001b[0;34m\u001b[0m\u001b[0m\n",
            "\u001b[0;32m/usr/local/lib/python3.6/dist-packages/jupyter_client/session.py\u001b[0m in \u001b[0;36mrecv\u001b[0;34m(self, socket, mode, content, copy)\u001b[0m\n\u001b[1;32m    802\u001b[0m         \u001b[0;32mtry\u001b[0m\u001b[0;34m:\u001b[0m\u001b[0;34m\u001b[0m\u001b[0;34m\u001b[0m\u001b[0m\n\u001b[0;32m--> 803\u001b[0;31m             \u001b[0mmsg_list\u001b[0m \u001b[0;34m=\u001b[0m \u001b[0msocket\u001b[0m\u001b[0;34m.\u001b[0m\u001b[0mrecv_multipart\u001b[0m\u001b[0;34m(\u001b[0m\u001b[0mmode\u001b[0m\u001b[0;34m,\u001b[0m \u001b[0mcopy\u001b[0m\u001b[0;34m=\u001b[0m\u001b[0mcopy\u001b[0m\u001b[0;34m)\u001b[0m\u001b[0;34m\u001b[0m\u001b[0;34m\u001b[0m\u001b[0m\n\u001b[0m\u001b[1;32m    804\u001b[0m         \u001b[0;32mexcept\u001b[0m \u001b[0mzmq\u001b[0m\u001b[0;34m.\u001b[0m\u001b[0mZMQError\u001b[0m \u001b[0;32mas\u001b[0m \u001b[0me\u001b[0m\u001b[0;34m:\u001b[0m\u001b[0;34m\u001b[0m\u001b[0;34m\u001b[0m\u001b[0m\n",
            "\u001b[0;32m/usr/local/lib/python3.6/dist-packages/zmq/sugar/socket.py\u001b[0m in \u001b[0;36mrecv_multipart\u001b[0;34m(self, flags, copy, track)\u001b[0m\n\u001b[1;32m    474\u001b[0m         \"\"\"\n\u001b[0;32m--> 475\u001b[0;31m         \u001b[0mparts\u001b[0m \u001b[0;34m=\u001b[0m \u001b[0;34m[\u001b[0m\u001b[0mself\u001b[0m\u001b[0;34m.\u001b[0m\u001b[0mrecv\u001b[0m\u001b[0;34m(\u001b[0m\u001b[0mflags\u001b[0m\u001b[0;34m,\u001b[0m \u001b[0mcopy\u001b[0m\u001b[0;34m=\u001b[0m\u001b[0mcopy\u001b[0m\u001b[0;34m,\u001b[0m \u001b[0mtrack\u001b[0m\u001b[0;34m=\u001b[0m\u001b[0mtrack\u001b[0m\u001b[0;34m)\u001b[0m\u001b[0;34m]\u001b[0m\u001b[0;34m\u001b[0m\u001b[0;34m\u001b[0m\u001b[0m\n\u001b[0m\u001b[1;32m    476\u001b[0m         \u001b[0;31m# have first part already, only loop while more to receive\u001b[0m\u001b[0;34m\u001b[0m\u001b[0;34m\u001b[0m\u001b[0;34m\u001b[0m\u001b[0m\n",
            "\u001b[0;32mzmq/backend/cython/socket.pyx\u001b[0m in \u001b[0;36mzmq.backend.cython.socket.Socket.recv\u001b[0;34m()\u001b[0m\n",
            "\u001b[0;32mzmq/backend/cython/socket.pyx\u001b[0m in \u001b[0;36mzmq.backend.cython.socket.Socket.recv\u001b[0;34m()\u001b[0m\n",
            "\u001b[0;32mzmq/backend/cython/socket.pyx\u001b[0m in \u001b[0;36mzmq.backend.cython.socket._recv_copy\u001b[0;34m()\u001b[0m\n",
            "\u001b[0;32m/usr/local/lib/python3.6/dist-packages/zmq/backend/cython/checkrc.pxd\u001b[0m in \u001b[0;36mzmq.backend.cython.checkrc._check_rc\u001b[0;34m()\u001b[0m\n",
            "\u001b[0;31mKeyboardInterrupt\u001b[0m: ",
            "\nDuring handling of the above exception, another exception occurred:\n",
            "\u001b[0;31mKeyboardInterrupt\u001b[0m                         Traceback (most recent call last)",
            "\u001b[0;32m<ipython-input-1-d5df0069828e>\u001b[0m in \u001b[0;36m<module>\u001b[0;34m()\u001b[0m\n\u001b[1;32m      1\u001b[0m \u001b[0;32mfrom\u001b[0m \u001b[0mgoogle\u001b[0m\u001b[0;34m.\u001b[0m\u001b[0mcolab\u001b[0m \u001b[0;32mimport\u001b[0m \u001b[0mdrive\u001b[0m\u001b[0;34m\u001b[0m\u001b[0;34m\u001b[0m\u001b[0m\n\u001b[0;32m----> 2\u001b[0;31m \u001b[0mdrive\u001b[0m\u001b[0;34m.\u001b[0m\u001b[0mmount\u001b[0m\u001b[0;34m(\u001b[0m\u001b[0;34m'/content/drive'\u001b[0m\u001b[0;34m)\u001b[0m\u001b[0;34m\u001b[0m\u001b[0;34m\u001b[0m\u001b[0m\n\u001b[0m",
            "\u001b[0;32m/usr/local/lib/python3.6/dist-packages/google/colab/drive.py\u001b[0m in \u001b[0;36mmount\u001b[0;34m(mountpoint, force_remount, timeout_ms, use_metadata_server)\u001b[0m\n\u001b[1;32m    240\u001b[0m       \u001b[0mauth_prompt\u001b[0m \u001b[0;34m=\u001b[0m \u001b[0md\u001b[0m\u001b[0;34m.\u001b[0m\u001b[0mmatch\u001b[0m\u001b[0;34m.\u001b[0m\u001b[0mgroup\u001b[0m\u001b[0;34m(\u001b[0m\u001b[0;36m1\u001b[0m\u001b[0;34m)\u001b[0m \u001b[0;34m+\u001b[0m \u001b[0;34m'\\nEnter your authorization code:\\n'\u001b[0m\u001b[0;34m\u001b[0m\u001b[0;34m\u001b[0m\u001b[0m\n\u001b[1;32m    241\u001b[0m       \u001b[0;32mwith\u001b[0m \u001b[0mopen\u001b[0m\u001b[0;34m(\u001b[0m\u001b[0mfifo\u001b[0m\u001b[0;34m,\u001b[0m \u001b[0;34m'w'\u001b[0m\u001b[0;34m)\u001b[0m \u001b[0;32mas\u001b[0m \u001b[0mfifo_file\u001b[0m\u001b[0;34m:\u001b[0m\u001b[0;34m\u001b[0m\u001b[0;34m\u001b[0m\u001b[0m\n\u001b[0;32m--> 242\u001b[0;31m         \u001b[0mfifo_file\u001b[0m\u001b[0;34m.\u001b[0m\u001b[0mwrite\u001b[0m\u001b[0;34m(\u001b[0m\u001b[0m_getpass\u001b[0m\u001b[0;34m.\u001b[0m\u001b[0mgetpass\u001b[0m\u001b[0;34m(\u001b[0m\u001b[0mauth_prompt\u001b[0m\u001b[0;34m)\u001b[0m \u001b[0;34m+\u001b[0m \u001b[0;34m'\\n'\u001b[0m\u001b[0;34m)\u001b[0m\u001b[0;34m\u001b[0m\u001b[0;34m\u001b[0m\u001b[0m\n\u001b[0m\u001b[1;32m    243\u001b[0m       \u001b[0mwrote_to_fifo\u001b[0m \u001b[0;34m=\u001b[0m \u001b[0;32mTrue\u001b[0m\u001b[0;34m\u001b[0m\u001b[0;34m\u001b[0m\u001b[0m\n\u001b[1;32m    244\u001b[0m   \u001b[0;32mif\u001b[0m \u001b[0;32mnot\u001b[0m \u001b[0mwrote_to_fifo\u001b[0m\u001b[0;34m:\u001b[0m\u001b[0;34m\u001b[0m\u001b[0;34m\u001b[0m\u001b[0m\n",
            "\u001b[0;32m/usr/local/lib/python3.6/dist-packages/ipykernel/kernelbase.py\u001b[0m in \u001b[0;36mgetpass\u001b[0;34m(self, prompt, stream)\u001b[0m\n\u001b[1;32m    685\u001b[0m             \u001b[0mself\u001b[0m\u001b[0;34m.\u001b[0m\u001b[0m_parent_ident\u001b[0m\u001b[0;34m,\u001b[0m\u001b[0;34m\u001b[0m\u001b[0;34m\u001b[0m\u001b[0m\n\u001b[1;32m    686\u001b[0m             \u001b[0mself\u001b[0m\u001b[0;34m.\u001b[0m\u001b[0m_parent_header\u001b[0m\u001b[0;34m,\u001b[0m\u001b[0;34m\u001b[0m\u001b[0;34m\u001b[0m\u001b[0m\n\u001b[0;32m--> 687\u001b[0;31m             \u001b[0mpassword\u001b[0m\u001b[0;34m=\u001b[0m\u001b[0;32mTrue\u001b[0m\u001b[0;34m,\u001b[0m\u001b[0;34m\u001b[0m\u001b[0;34m\u001b[0m\u001b[0m\n\u001b[0m\u001b[1;32m    688\u001b[0m         )\n\u001b[1;32m    689\u001b[0m \u001b[0;34m\u001b[0m\u001b[0m\n",
            "\u001b[0;32m/usr/local/lib/python3.6/dist-packages/ipykernel/kernelbase.py\u001b[0m in \u001b[0;36m_input_request\u001b[0;34m(self, prompt, ident, parent, password)\u001b[0m\n\u001b[1;32m    732\u001b[0m             \u001b[0;32mexcept\u001b[0m \u001b[0mKeyboardInterrupt\u001b[0m\u001b[0;34m:\u001b[0m\u001b[0;34m\u001b[0m\u001b[0;34m\u001b[0m\u001b[0m\n\u001b[1;32m    733\u001b[0m                 \u001b[0;31m# re-raise KeyboardInterrupt, to truncate traceback\u001b[0m\u001b[0;34m\u001b[0m\u001b[0;34m\u001b[0m\u001b[0;34m\u001b[0m\u001b[0m\n\u001b[0;32m--> 734\u001b[0;31m                 \u001b[0;32mraise\u001b[0m \u001b[0mKeyboardInterrupt\u001b[0m\u001b[0;34m\u001b[0m\u001b[0;34m\u001b[0m\u001b[0m\n\u001b[0m\u001b[1;32m    735\u001b[0m             \u001b[0;32melse\u001b[0m\u001b[0;34m:\u001b[0m\u001b[0;34m\u001b[0m\u001b[0;34m\u001b[0m\u001b[0m\n\u001b[1;32m    736\u001b[0m                 \u001b[0;32mbreak\u001b[0m\u001b[0;34m\u001b[0m\u001b[0;34m\u001b[0m\u001b[0m\n",
            "\u001b[0;31mKeyboardInterrupt\u001b[0m: "
          ]
        }
      ]
    },
    {
      "cell_type": "code",
      "metadata": {
        "id": "U_UZWnGAwbFQ",
        "colab_type": "code",
        "colab": {
          "base_uri": "https://localhost:8080/",
          "height": 34
        },
        "outputId": "de79934e-8872-4097-f85b-fc70cbdd3087"
      },
      "source": [
        "# After executing the cell above, Drive\n",
        "# files will be present in \"/content/drive/My Drive\".\n",
        "!ls \"/content/drive/My Drive/DiploDatos/02.AyC\""
      ],
      "execution_count": null,
      "outputs": [
        {
          "output_type": "stream",
          "text": [
            "chinook.db\n"
          ],
          "name": "stdout"
        }
      ]
    },
    {
      "cell_type": "code",
      "metadata": {
        "id": "odhw6w-bxNBr",
        "colab_type": "code",
        "colab": {}
      },
      "source": [
        "import sqlite3"
      ],
      "execution_count": null,
      "outputs": []
    },
    {
      "cell_type": "code",
      "metadata": {
        "id": "hYM320rRwtoX",
        "colab_type": "code",
        "colab": {}
      },
      "source": [
        "db_connect = sqlite3.connect('/content/drive/My Drive/DiploDatos/02.AyC/chinook.db')"
      ],
      "execution_count": null,
      "outputs": []
    },
    {
      "cell_type": "code",
      "metadata": {
        "id": "EK_IBIO7z5C8",
        "colab_type": "code",
        "colab": {}
      },
      "source": [
        "cur = db_connect.cursor()"
      ],
      "execution_count": null,
      "outputs": []
    },
    {
      "cell_type": "markdown",
      "metadata": {
        "id": "A8P-1PMmMseO",
        "colab_type": "text"
      },
      "source": [
        "Ej0. Prueba de lectura"
      ]
    },
    {
      "cell_type": "code",
      "metadata": {
        "id": "UhM3Jlvp0DYe",
        "colab_type": "code",
        "colab": {}
      },
      "source": [
        "datos = cur.execute('SELECT * FROM artists LIMIT 10;')"
      ],
      "execution_count": null,
      "outputs": []
    },
    {
      "cell_type": "code",
      "metadata": {
        "id": "J-A5h2NC1bpR",
        "colab_type": "code",
        "colab": {
          "base_uri": "https://localhost:8080/",
          "height": 187
        },
        "outputId": "e9319974-64b9-4fef-9db2-ea006cf7a897"
      },
      "source": [
        "for filas in datos:\n",
        "  print(filas)"
      ],
      "execution_count": null,
      "outputs": [
        {
          "output_type": "stream",
          "text": [
            "(1, 'AC/DC')\n",
            "(2, 'Accept')\n",
            "(3, 'Aerosmith')\n",
            "(4, 'Alanis Morissette')\n",
            "(5, 'Alice In Chains')\n",
            "(6, 'Antônio Carlos Jobim')\n",
            "(7, 'Apocalyptica')\n",
            "(8, 'Audioslave')\n",
            "(9, 'BackBeat')\n",
            "(10, 'Billy Cobham')\n"
          ],
          "name": "stdout"
        }
      ]
    },
    {
      "cell_type": "markdown",
      "metadata": {
        "id": "ouJSnT5OEUs1",
        "colab_type": "text"
      },
      "source": [
        "Ej1. Canciones de Iron Maiden"
      ]
    },
    {
      "cell_type": "code",
      "metadata": {
        "id": "YCjEn2mkEIXX",
        "colab_type": "code",
        "colab": {}
      },
      "source": [
        "datos = cur.execute('SELECT tracks.Name FROM tracks INNER JOIN albums ON tracks.Albumid = albums.Albumid INNER JOIN artists ON albums.Artistid = artists.Artistid WHERE artists.Name LIKE \"Iron%\";')"
      ],
      "execution_count": null,
      "outputs": []
    },
    {
      "cell_type": "code",
      "metadata": {
        "id": "t4SoGheWGLfA",
        "colab_type": "code",
        "colab": {
          "base_uri": "https://localhost:8080/",
          "height": 1000
        },
        "outputId": "a0e19540-2af1-409a-c4c5-4f422d7db946"
      },
      "source": [
        "for filas in datos:\n",
        "  print(filas)"
      ],
      "execution_count": null,
      "outputs": [
        {
          "output_type": "stream",
          "text": [
            "('Different World',)\n",
            "(\"These Colours Don't Run\",)\n",
            "('Brighter Than a Thousand Suns',)\n",
            "('The Pilgrim',)\n",
            "('The Longest Day',)\n",
            "('Out of the Shadows',)\n",
            "('The Reincarnation of Benjamin Breeg',)\n",
            "('For the Greater Good of God',)\n",
            "('Lord of Light',)\n",
            "('The Legacy',)\n",
            "('Hallowed Be Thy Name (Live) [Non Album Bonus Track]',)\n",
            "('The Number Of The Beast',)\n",
            "('The Trooper',)\n",
            "('Prowler',)\n",
            "('Transylvania',)\n",
            "('Remember Tomorrow',)\n",
            "('Where Eagles Dare',)\n",
            "('Sanctuary',)\n",
            "('Running Free',)\n",
            "('Run To The Hilss',)\n",
            "('2 Minutes To Midnight',)\n",
            "('Iron Maiden',)\n",
            "('Hallowed Be Thy Name',)\n",
            "('Be Quick Or Be Dead',)\n",
            "('From Here To Eternity',)\n",
            "('Can I Play With Madness',)\n",
            "('Wasting Love',)\n",
            "('Tailgunner',)\n",
            "('The Evil That Men Do',)\n",
            "('Afraid To Shoot Strangers',)\n",
            "('Bring Your Daughter... To The Slaughter',)\n",
            "('Heaven Can Wait',)\n",
            "('The Clairvoyant',)\n",
            "('Fear Of The Dark',)\n",
            "('The Wicker Man',)\n",
            "('Ghost Of The Navigator',)\n",
            "('Brave New World',)\n",
            "('Blood Brothers',)\n",
            "('The Mercenary',)\n",
            "('Dream Of Mirrors',)\n",
            "('The Fallen Angel',)\n",
            "('The Nomad',)\n",
            "('Out Of The Silent Planet',)\n",
            "('The Thin Line Between Love & Hate',)\n",
            "('Wildest Dreams',)\n",
            "('Rainmaker',)\n",
            "('No More Lies',)\n",
            "('Montsegur',)\n",
            "('Dance Of Death',)\n",
            "('Gates Of Tomorrow',)\n",
            "('New Frontier',)\n",
            "('Paschendale',)\n",
            "('Face In The Sand',)\n",
            "('Age Of Innocence',)\n",
            "('Journeyman',)\n",
            "('Be Quick Or Be Dead',)\n",
            "('From Here To Eternity',)\n",
            "('Afraid To Shoot Strangers',)\n",
            "('Fear Is The Key',)\n",
            "(\"Childhood's End\",)\n",
            "('Wasting Love',)\n",
            "('The Fugitive',)\n",
            "('Chains Of Misery',)\n",
            "('The Apparition',)\n",
            "('Judas Be My Guide',)\n",
            "('Weekend Warrior',)\n",
            "('Fear Of The Dark',)\n",
            "('01 - Prowler',)\n",
            "('02 - Sanctuary',)\n",
            "('03 - Remember Tomorrow',)\n",
            "('04 - Running Free',)\n",
            "('05 - Phantom of the Opera',)\n",
            "('06 - Transylvania',)\n",
            "('07 - Strange World',)\n",
            "('08 - Charlotte the Harlot',)\n",
            "('09 - Iron Maiden',)\n",
            "('The Ides Of March',)\n",
            "('Wrathchild',)\n",
            "('Murders In The Rue Morgue',)\n",
            "('Another Life',)\n",
            "('Genghis Khan',)\n",
            "('Innocent Exile',)\n",
            "('Killers',)\n",
            "('Prodigal Son',)\n",
            "('Purgatory',)\n",
            "('Drifter',)\n",
            "('Intro- Churchill S Speech',)\n",
            "('Aces High',)\n",
            "('2 Minutes To Midnight',)\n",
            "('The Trooper',)\n",
            "('Revelations',)\n",
            "('Flight Of Icarus',)\n",
            "('Rime Of The Ancient Mariner',)\n",
            "('Powerslave',)\n",
            "('The Number Of The Beast',)\n",
            "('Hallowed Be Thy Name',)\n",
            "('Iron Maiden',)\n",
            "('Run To The Hills',)\n",
            "('Running Free',)\n",
            "('Wrathchild',)\n",
            "('Acacia Avenue',)\n",
            "('Children Of The Damned',)\n",
            "('Die With Your Boots On',)\n",
            "('Phantom Of The Opera',)\n",
            "('Be Quick Or Be Dead',)\n",
            "('The Number Of The Beast',)\n",
            "('Wrathchild',)\n",
            "('From Here To Eternity',)\n",
            "('Can I Play With Madness',)\n",
            "('Wasting Love',)\n",
            "('Tailgunner',)\n",
            "('The Evil That Men Do',)\n",
            "('Afraid To Shoot Strangers',)\n",
            "('Fear Of The Dark',)\n",
            "('Bring Your Daughter... To The Slaughter...',)\n",
            "('The Clairvoyant',)\n",
            "('Heaven Can Wait',)\n",
            "('Run To The Hills',)\n",
            "('2 Minutes To Midnight',)\n",
            "('Iron Maiden',)\n",
            "('Hallowed Be Thy Name',)\n",
            "('The Trooper',)\n",
            "('Sanctuary',)\n",
            "('Running Free',)\n",
            "('Tailgunner',)\n",
            "('Holy Smoke',)\n",
            "('No Prayer For The Dying',)\n",
            "('Public Enema Number One',)\n",
            "('Fates Warning',)\n",
            "('The Assassin',)\n",
            "('Run Silent Run Deep',)\n",
            "('Hooks In You',)\n",
            "('Bring Your Daughter... ...To The Slaughter',)\n",
            "('Mother Russia',)\n",
            "('Where Eagles Dare',)\n",
            "('Revelations',)\n",
            "('Flight Of The Icarus',)\n",
            "('Die With Your Boots On',)\n",
            "('The Trooper',)\n",
            "('Still Life',)\n",
            "('Quest For Fire',)\n",
            "('Sun And Steel',)\n",
            "('To Tame A Land',)\n",
            "('Aces High',)\n",
            "('2 Minutes To Midnight',)\n",
            "('Losfer Words',)\n",
            "('Flash of The Blade',)\n",
            "('Duelists',)\n",
            "('Back in the Village',)\n",
            "('Powerslave',)\n",
            "('Rime of the Ancient Mariner',)\n",
            "('Intro',)\n",
            "('The Wicker Man',)\n",
            "('Ghost Of The Navigator',)\n",
            "('Brave New World',)\n",
            "('Wrathchild',)\n",
            "('2 Minutes To Midnight',)\n",
            "('Blood Brothers',)\n",
            "('Sign Of The Cross',)\n",
            "('The Mercenary',)\n",
            "('The Trooper',)\n",
            "('Dream Of Mirrors',)\n",
            "('The Clansman',)\n",
            "('The Evil That Men Do',)\n",
            "('Fear Of The Dark',)\n",
            "('Iron Maiden',)\n",
            "('The Number Of The Beast',)\n",
            "('Hallowed Be Thy Name',)\n",
            "('Sanctuary',)\n",
            "('Run To The Hills',)\n",
            "('Moonchild',)\n",
            "('Infinite Dreams',)\n",
            "('Can I Play With Madness',)\n",
            "('The Evil That Men Do',)\n",
            "('Seventh Son of a Seventh Son',)\n",
            "('The Prophecy',)\n",
            "('The Clairvoyant',)\n",
            "('Only the Good Die Young',)\n",
            "('Caught Somewhere in Time',)\n",
            "('Wasted Years',)\n",
            "('Sea of Madness',)\n",
            "('Heaven Can Wait',)\n",
            "('Stranger in a Strange Land',)\n",
            "('Alexander the Great',)\n",
            "('De Ja Vu',)\n",
            "('The Loneliness of the Long Dis',)\n",
            "('22 Acacia Avenue',)\n",
            "('Children of the Damned',)\n",
            "('Gangland',)\n",
            "('Hallowed Be Thy Name',)\n",
            "('Invaders',)\n",
            "('Run to the Hills',)\n",
            "('The Number Of The Beast',)\n",
            "('The Prisoner',)\n",
            "('Sign Of The Cross',)\n",
            "('Lord Of The Flies',)\n",
            "('Man On The Edge',)\n",
            "('Fortunes Of War',)\n",
            "('Look For The Truth',)\n",
            "('The Aftermath',)\n",
            "('Judgement Of Heaven',)\n",
            "(\"Blood On The World's Hands\",)\n",
            "('The Edge Of Darkness',)\n",
            "('2 A.M.',)\n",
            "('The Unbeliever',)\n",
            "('Futureal',)\n",
            "('The Angel And The Gambler',)\n",
            "('Lightning Strikes Twice',)\n",
            "('The Clansman',)\n",
            "('When Two Worlds Collide',)\n",
            "('The Educated Fool',)\n",
            "(\"Don't Look To The Eyes Of A Stranger\",)\n",
            "('Como Estais Amigos',)\n"
          ],
          "name": "stdout"
        }
      ]
    },
    {
      "cell_type": "markdown",
      "metadata": {
        "id": "nf6yN7jmIOxS",
        "colab_type": "text"
      },
      "source": [
        "Ej2. Discos con más de 25 canciones"
      ]
    },
    {
      "cell_type": "code",
      "metadata": {
        "id": "k0vtiavrJUJG",
        "colab_type": "code",
        "colab": {}
      },
      "source": [
        "datos = cur.execute('SELECT artists.Name, albums.Title, count(tracks.Trackid) AS cant FROM artists INNER JOIN albums ON artists.Artistid = albums.Artistid INNER JOIN tracks ON albums.Albumid = tracks.Albumid GROUP BY albums.Title HAVING cant > 25;')"
      ],
      "execution_count": null,
      "outputs": []
    },
    {
      "cell_type": "code",
      "metadata": {
        "id": "DOxFfHfhJgqe",
        "colab_type": "code",
        "colab": {
          "base_uri": "https://localhost:8080/",
          "height": 85
        },
        "outputId": "2356bc03-5bee-4738-918f-876367cc72af"
      },
      "source": [
        "for filas in datos:\n",
        "  print(filas)"
      ],
      "execution_count": null,
      "outputs": [
        {
          "output_type": "stream",
          "text": [
            "('Lenny Kravitz', 'Greatest Hits', 57)\n",
            "('Lost', 'Lost, Season 3', 26)\n",
            "('Chico Buarque', 'Minha Historia', 34)\n",
            "('Eric Clapton', 'Unplugged', 30)\n"
          ],
          "name": "stdout"
        }
      ]
    },
    {
      "cell_type": "markdown",
      "metadata": {
        "id": "_udPpESLNOFP",
        "colab_type": "text"
      },
      "source": [
        "Ej3. Las 10 canciones mas populares."
      ]
    },
    {
      "cell_type": "code",
      "metadata": {
        "id": "ONBYL-MmPBzc",
        "colab_type": "code",
        "colab": {}
      },
      "source": [
        "datos = cur.execute('SELECT tracks.Name, count(playlist_track.Playlistid) AS cant FROM tracks INNER JOIN playlist_track ON tracks.Trackid = playlist_track.Trackid GROUP BY tracks.Name ORDER BY cant desc LIMIT 10;')"
      ],
      "execution_count": null,
      "outputs": []
    },
    {
      "cell_type": "code",
      "metadata": {
        "id": "IFJpivCgVdv4",
        "colab_type": "code",
        "colab": {
          "base_uri": "https://localhost:8080/",
          "height": 187
        },
        "outputId": "c84ec631-fe39-4118-f432-57e98c225ccf"
      },
      "source": [
        "for filas in datos:\n",
        "  print(filas)"
      ],
      "execution_count": null,
      "outputs": [
        {
          "output_type": "stream",
          "text": [
            "('2 Minutes To Midnight', 13)\n",
            "('Hallowed Be Thy Name', 12)\n",
            "('Iron Maiden', 12)\n",
            "('The Number Of The Beast', 12)\n",
            "('The Trooper', 12)\n",
            "('Wrathchild', 12)\n",
            "('Fear Of The Dark', 11)\n",
            "('Running Free', 10)\n",
            "('Sanctuary', 10)\n",
            "('The Evil That Men Do', 10)\n"
          ],
          "name": "stdout"
        }
      ]
    },
    {
      "cell_type": "markdown",
      "metadata": {
        "id": "I3T1R2qEKJlp",
        "colab_type": "text"
      },
      "source": [
        "Ej4. Reescribir la siguiente consulta"
      ]
    },
    {
      "cell_type": "code",
      "metadata": {
        "id": "SPwr0pNgKfUN",
        "colab_type": "code",
        "colab": {}
      },
      "source": [
        "datos = cur.execute('SELECT trackid, name FROM tracks WHERE albumid = (SELECT albumid FROM albums WHERE title = \"Let There Be Rock\");')"
      ],
      "execution_count": null,
      "outputs": []
    },
    {
      "cell_type": "code",
      "metadata": {
        "id": "ENFqVuuyLlFz",
        "colab_type": "code",
        "colab": {
          "base_uri": "https://localhost:8080/",
          "height": 153
        },
        "outputId": "c13bd1d1-cebd-4326-81ca-2695416a1a89"
      },
      "source": [
        "for filas in datos:\n",
        "  print(filas)"
      ],
      "execution_count": null,
      "outputs": [
        {
          "output_type": "stream",
          "text": [
            "(15, 'Go Down')\n",
            "(16, 'Dog Eat Dog')\n",
            "(17, 'Let There Be Rock')\n",
            "(18, 'Bad Boy Boogie')\n",
            "(19, 'Problem Child')\n",
            "(20, 'Overdose')\n",
            "(21, \"Hell Ain't A Bad Place To Be\")\n",
            "(22, 'Whole Lotta Rosie')\n"
          ],
          "name": "stdout"
        }
      ]
    },
    {
      "cell_type": "code",
      "metadata": {
        "id": "__MRsH9ePIHZ",
        "colab_type": "code",
        "colab": {}
      },
      "source": [
        "datos = cur.execute('SELECT tracks.Trackid, tracks.Name FROM tracks INNER JOIN albums ON tracks.Albumid = albums.Albumid WHERE albums.Title = \"Let There Be Rock\";')"
      ],
      "execution_count": null,
      "outputs": []
    },
    {
      "cell_type": "code",
      "metadata": {
        "id": "T0-grzizQm6m",
        "colab_type": "code",
        "colab": {
          "base_uri": "https://localhost:8080/",
          "height": 153
        },
        "outputId": "b760dd9a-31a3-4102-8800-5181819772ee"
      },
      "source": [
        "for filas in datos:\n",
        "  print(filas)"
      ],
      "execution_count": null,
      "outputs": [
        {
          "output_type": "stream",
          "text": [
            "(15, 'Go Down')\n",
            "(16, 'Dog Eat Dog')\n",
            "(17, 'Let There Be Rock')\n",
            "(18, 'Bad Boy Boogie')\n",
            "(19, 'Problem Child')\n",
            "(20, 'Overdose')\n",
            "(21, \"Hell Ain't A Bad Place To Be\")\n",
            "(22, 'Whole Lotta Rosie')\n"
          ],
          "name": "stdout"
        }
      ]
    }
  ]
}